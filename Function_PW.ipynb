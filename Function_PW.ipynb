{
  "nbformat": 4,
  "nbformat_minor": 0,
  "metadata": {
    "colab": {
      "provenance": []
    },
    "kernelspec": {
      "name": "python3",
      "display_name": "Python 3"
    },
    "language_info": {
      "name": "python"
    }
  },
  "cells": [
    {
      "cell_type": "code",
      "execution_count": null,
      "metadata": {
        "id": "bAvdiSiudoOp"
      },
      "outputs": [],
      "source": [
        " # 1. What is the difference between a function and a method in Python?\n",
        "    -Function:\n",
        "A function is defined using the def keyword.\n",
        "It can exist independently and is not tied to any object or class.\n",
        "You can call it directly using its name.\n",
        "   -Method:\n",
        "A method is a function that is associated with an object (usually part of a class).\n",
        "It's defined inside a class and is called on an instance (or the class itself, for class/static methods).\n",
        "The first parameter is usually self, referring to the instance of the class.\n",
        "\n",
        "#2. Explain the concept of function arguments and parameters in Python.\n",
        "   -Parameters:\n",
        "These are the variables listed in a function’s definition.\n",
        "Think of them as placeholders for the values the function will receive.\n",
        "   -Arguments:\n",
        "These are the actual values you pass to a function when you call it.\n",
        "They replace the parameters during the function call\n",
        "\n",
        "#3. What are the different ways to define and call a function in Python?\n",
        "   -Ways to Define a Function\n",
        "1. Standard Function (Using def)\n",
        "def say_hello(name):\n",
        "    return f\"Hello, {name}\"\n",
        "2. Lambda Function (Anonymous Function)\n",
        "Short, one-line function (great for simple operations)\n",
        "greet = lambda name: f\"Hello, {name}\"\n",
        "3. Using def Inside a Class (Method)\n",
        "class Greeter:\n",
        "    def greet(self, name):\n",
        "        return f\"Hello, {name}\"\n",
        "\n",
        "#4.What is the purpose of the `return` statement in a Python function?\n",
        "   -The return statement in Python is how a function sends a result back to the part of the program that called it.\n",
        "\n",
        "# 5.What are iterators in Python and how do they differ from iterables?\n",
        "   -  Iterable:\n",
        "An iterable is any object you can loop over with a for loop.\n",
        "It implements the __iter__() method and returns an iterator.\n",
        "   - Iterator:\n",
        "An iterator is the actual object that does the iteration.\n",
        "It has two key methods:\n",
        "__iter__()  returns itself\n",
        "__next__()  returns the next item or raises StopIteration when done\n",
        "\n",
        "# 6.Explain the concept of generators in Python and how they are defined?\n",
        "   -A generator is a special kind of iterator that yields values one at a time, only when asked for (i.e., \"lazy evaluation\").\n",
        "It remembers its state between calls, which makes it perfect for working with large data sets or infinite sequences.\n",
        "\n",
        "# 7.What are the advantages of using generators over regular functions?\n",
        "   -Memory Efficiency\n",
        "   -Lazy Evaluation\n",
        "   -Improved Performance\n",
        "   -Support for Infinite Sequences\n",
        "\n",
        "# 8.What is a lambda function in Python and when is it typically used?\n",
        "   - A lambda function in Python is a small, anonymous function defined using the lambda keyword. It can have any number of arguments but only one expression. The result of that expression is automatically returned.\n",
        "\n",
        "# 9.Explain the purpose and usage of the `map()` function in Python.\n",
        "   -To simplify the process of transforming or processing data in an iterable without using an explicit loop\n",
        "\n",
        "# 10.What is the difference between `map()`, `reduce()`, and `filter()` functions in Python?\n",
        "  - map() — Transformation\n",
        "Applies a function to every item in an iterable and returns a new iterable (map object) with the results.\n",
        "Use when: You want to transform each element.\n",
        "   -filter() — Filtering\n",
        "Applies a predicate function (returns True or False) to each item and returns an iterable with only the items that return True.\n",
        "Use when: You want to filter items based on a condition.\n",
        "   -reduce() — Reduction/Aggregation\n",
        "Applies a function cumulatively to the items in a sequence, reducing it to a single value.\n",
        "It'S part of the functools module.\n",
        "Use when: You want to combine all elements into one.\n",
        "\n",
        "# 11.Using pen & Paper write the internal mechanism for sum operation using  reduce function on this given list:[47,11,42,13]\n",
        "   -Internal Mechanism for Sum\n",
        "We'll simulate how this works step by step using a sum operation. Here's the code and then we’ll break it down:\n",
        "numbers = [47, 11, 42, 13]\n",
        "result = reduce(lambda x, y: x + y, numbers)\n",
        "print(result)\n",
        "Now, here’s what happens internally:\n",
        "Step 1: x = 47, y = 11 → x + y = 58\n",
        "Step 2: x = 58, y = 42 → x + y = 100\n",
        "Step 3: x = 100, y = 13 → x + y = 113\n",
        "Final result: 113\n",
        "\n",
        "reduce(lambda x, y: x + y, [47, 11, 42, 13])\n",
        "\n",
        "= (((47 + 11) + 42) + 13)\n",
        "= ((58 + 42) + 13)\n",
        "= (100 + 13)\n",
        "= 113\n"
      ]
    },
    {
      "cell_type": "code",
      "source": [
        "# 1 Write a Python function that takes a list of numbers as input and returns\n",
        "\n",
        "def sum_of_even_numbers(numbers):\n",
        "    return sum(num for num in numbers if num % 2 == 0)\n",
        "my_list = [47, 11, 42, 13, 8, 6]\n",
        "result = sum_of_even_numbers(my_list)\n",
        "print(result)\n"
      ],
      "metadata": {
        "colab": {
          "base_uri": "https://localhost:8080/"
        },
        "id": "aD7hMHZrkuGj",
        "outputId": "62380cfc-ed5e-41af-fad0-76a1ada79de7"
      },
      "execution_count": 4,
      "outputs": [
        {
          "output_type": "stream",
          "name": "stdout",
          "text": [
            "56\n"
          ]
        }
      ]
    },
    {
      "cell_type": "code",
      "source": [
        "# 2. Create a Python function that accepts a string and returns the reverse of that string\n",
        "def reverse_string(s):\n",
        "    return s[::-1]\n",
        "text = \"hello\"\n",
        "reversed_text = reverse_string(text)\n",
        "print(reversed_text)  # Output: \"olleh\"\n"
      ],
      "metadata": {
        "colab": {
          "base_uri": "https://localhost:8080/"
        },
        "id": "-c_jXjbJmPGi",
        "outputId": "22d0f5e6-4401-4941-966e-b27b7d028c3c"
      },
      "execution_count": 7,
      "outputs": [
        {
          "output_type": "stream",
          "name": "stdout",
          "text": [
            "olleh\n"
          ]
        }
      ]
    },
    {
      "cell_type": "code",
      "source": [
        "#3. Implement a Python function that takes a list of integers and returns a new list containing the squares of each number\n",
        "def square_list(numbers):\n",
        "    return [x**2 for x in numbers]\n",
        "nums = [1, 2, 3, 4, 5]\n",
        "squared_nums = square_list(nums)\n",
        "print(squared_nums)  # Output: [1, 4, 9, 16, 25]\n"
      ],
      "metadata": {
        "colab": {
          "base_uri": "https://localhost:8080/"
        },
        "id": "onPY4b2unJ4q",
        "outputId": "9d81be24-97a3-4649-f4f1-edb0c397397d"
      },
      "execution_count": 9,
      "outputs": [
        {
          "output_type": "stream",
          "name": "stdout",
          "text": [
            "[1, 4, 9, 16, 25]\n"
          ]
        }
      ]
    },
    {
      "cell_type": "code",
      "source": [
        "#4. Write a Python function that checks if a given number is prime or not from 1 to 200.\n",
        "\n",
        "def is_prime(n):\n",
        "    if n < 2 or n > 200:\n",
        "        return False  # Outside of allowed range\n",
        "    for i in range(2, int(n**0.5) + 1):\n",
        "        if n % i == 0:\n",
        "            return False\n",
        "    return True\n",
        "\n",
        "\n",
        "\n"
      ],
      "metadata": {
        "id": "tfZTvaafnfUA"
      },
      "execution_count": 15,
      "outputs": []
    },
    {
      "cell_type": "code",
      "source": [
        "#5. Create an iterator class in Python that generates the Fibonacci sequence up to a specified number of terms\n",
        "\n",
        "class FibonacciIterator:\n",
        "    def __init__(self, max_terms):\n",
        "        self.max_terms = max_terms\n",
        "        self.count = 0\n",
        "        self.a, self.b = 0, 1\n",
        "\n",
        "    def __iter__(self):\n",
        "        return self\n",
        "\n",
        "    def __next__(self):\n",
        "        if self.count >= self.max_terms:\n",
        "            raise StopIteration\n",
        "        if self.count == 0:\n",
        "            self.count += 1\n",
        "            return 0\n",
        "        elif self.count == 1:\n",
        "            self.count += 1\n",
        "            return 1\n",
        "        else:\n",
        "            self.a, self.b = self.b, self.a + self.b\n",
        "            self.count += 1\n",
        "            return self.a\n",
        "\n",
        "fib = FibonacciIterator(10)\n",
        "\n",
        "for num in fib:\n",
        "    print(num)\n",
        "\n"
      ],
      "metadata": {
        "colab": {
          "base_uri": "https://localhost:8080/"
        },
        "id": "K_lUNOJNoKAV",
        "outputId": "2ee3a909-f429-4b32-cf6a-7df2d3100e7a"
      },
      "execution_count": 18,
      "outputs": [
        {
          "output_type": "stream",
          "name": "stdout",
          "text": [
            "0\n",
            "1\n",
            "1\n",
            "1\n",
            "2\n",
            "3\n",
            "5\n",
            "8\n",
            "13\n",
            "21\n"
          ]
        }
      ]
    },
    {
      "cell_type": "code",
      "source": [
        "# 6. Write a generator function in Python that yields the powers of 2 up to a given exponent\n",
        "def powers_of_two(max_exponent):\n",
        "    for exp in range(max_exponent + 1):\n",
        "        yield 2 ** exp\n",
        "for power in powers_of_two(5):\n",
        "    print(power)\n",
        "\n"
      ],
      "metadata": {
        "colab": {
          "base_uri": "https://localhost:8080/"
        },
        "id": "5ERxWJm4ompV",
        "outputId": "bbda7bce-ea0b-462c-a237-68a179fde212"
      },
      "execution_count": 20,
      "outputs": [
        {
          "output_type": "stream",
          "name": "stdout",
          "text": [
            "1\n",
            "2\n",
            "4\n",
            "8\n",
            "16\n",
            "32\n"
          ]
        }
      ]
    },
    {
      "cell_type": "code",
      "source": [
        "# 7. Implement a generator function that reads a file line by line and yields each line as a string.\n",
        "def read_file_line_by_line(file_path):\n",
        "    with open(file_path, 'r') as file:\n",
        "        for line in file:\n",
        "            yield line.strip()  # strip removes any leading/trailing whitespace characters\n",
        "file_path = 'example.txt'  # Replace with your file path\n",
        "\n",
        "for line in read_file_line_by_line(file_path):\n",
        "    print(line)\n"
      ],
      "metadata": {
        "id": "lB_ZbKBDo7-j"
      },
      "execution_count": null,
      "outputs": []
    },
    {
      "cell_type": "code",
      "source": [
        "#8. Use a lambda function in Python to sort a list of tuples based on the second element of each tuple.\n",
        "\n",
        "data = [(1, 3), (4, 1), (2, 2), (5, 0)]\n",
        "sorted_data = sorted(data, key=lambda x: x[1])\n",
        "print(sorted_data)\n"
      ],
      "metadata": {
        "colab": {
          "base_uri": "https://localhost:8080/"
        },
        "id": "PfIcbaRZqloS",
        "outputId": "cff65313-9cab-40b1-b82f-80e30c6198c7"
      },
      "execution_count": 24,
      "outputs": [
        {
          "output_type": "stream",
          "name": "stdout",
          "text": [
            "[(5, 0), (4, 1), (2, 2), (1, 3)]\n"
          ]
        }
      ]
    },
    {
      "cell_type": "code",
      "source": [
        "# 9. Write a Python program that uses `map()` to convert a list of temperatures from Celsius to Fahrenheit\n",
        "\n",
        "celsius_temps = [0, 20, 30, 40, 100]\n",
        "fahrenheit_temps = list(map(lambda c: (c * 9/5) + 32, celsius_temps))\n",
        "print(fahrenheit_temps)\n"
      ],
      "metadata": {
        "colab": {
          "base_uri": "https://localhost:8080/"
        },
        "id": "beiEqZJEq9BA",
        "outputId": "9931a0f0-5f30-4477-fb20-8bae1d7a3d7d"
      },
      "execution_count": 26,
      "outputs": [
        {
          "output_type": "stream",
          "name": "stdout",
          "text": [
            "[32.0, 68.0, 86.0, 104.0, 212.0]\n"
          ]
        }
      ]
    },
    {
      "cell_type": "code",
      "source": [
        "# 10. Create a Python program that uses `filter()` to remove all the vowels from a given string\n",
        "\n",
        "input_str = \"Hello, World!\"\n",
        "vowels = \"aeiouAEIOU\"\n",
        "no_vowels = ''.join(filter(lambda char: char not in vowels, input_str))\n",
        "print(no_vowels)\n"
      ],
      "metadata": {
        "colab": {
          "base_uri": "https://localhost:8080/"
        },
        "id": "Azn4TAAlrMuw",
        "outputId": "85dbced0-3ecd-4cd6-9ef3-d7a0db71e8ec"
      },
      "execution_count": 28,
      "outputs": [
        {
          "output_type": "stream",
          "name": "stdout",
          "text": [
            "Hll, Wrld!\n"
          ]
        }
      ]
    }
  ]
}